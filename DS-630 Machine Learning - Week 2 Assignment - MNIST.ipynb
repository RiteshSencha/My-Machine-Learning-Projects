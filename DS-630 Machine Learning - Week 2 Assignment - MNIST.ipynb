{
 "cells": [
  {
   "cell_type": "code",
   "execution_count": null,
   "id": "d218ae09",
   "metadata": {},
   "outputs": [],
   "source": [
    "#Import all libraries"
   ]
  },
  {
   "cell_type": "code",
   "execution_count": 141,
   "id": "e564cf62",
   "metadata": {},
   "outputs": [],
   "source": [
    "%matplotlib inline\n",
    "import matplotlib as mpl\n",
    "import matplotlib.pyplot as plt\n",
    "from sklearn.datasets import fetch_openml\n",
    "import numpy as np\n",
    "import pandas as pd\n",
    "from sklearn import *\n",
    "from sklearn.neighbors import KNeighborsClassifier\n",
    "from sklearn.model_selection import train_test_split"
   ]
  },
  {
   "cell_type": "code",
   "execution_count": null,
   "id": "e3e19da1",
   "metadata": {},
   "outputs": [],
   "source": [
    "#fetch data"
   ]
  },
  {
   "cell_type": "code",
   "execution_count": 8,
   "id": "162fe2a6",
   "metadata": {},
   "outputs": [
    {
     "data": {
      "text/plain": [
       "dict_keys(['data', 'target', 'frame', 'categories', 'feature_names', 'target_names', 'DESCR', 'details', 'url'])"
      ]
     },
     "execution_count": 8,
     "metadata": {},
     "output_type": "execute_result"
    }
   ],
   "source": [
    "mnist = fetch_openml('mnist_784', version=1, as_frame=False)\n",
    "mnist.keys()\n"
   ]
  },
  {
   "cell_type": "code",
   "execution_count": null,
   "id": "c6d6c173",
   "metadata": {},
   "outputs": [],
   "source": [
    "#Define X & y"
   ]
  },
  {
   "cell_type": "code",
   "execution_count": 124,
   "id": "2ee972e4",
   "metadata": {},
   "outputs": [],
   "source": [
    "X, y = mnist[\"data\"], mnist[\"target\"]"
   ]
  },
  {
   "cell_type": "code",
   "execution_count": 147,
   "id": "aa3fc101",
   "metadata": {},
   "outputs": [
    {
     "data": {
      "text/plain": [
       "array([[0., 0., 0., ..., 0., 0., 0.],\n",
       "       [0., 0., 0., ..., 0., 0., 0.],\n",
       "       [0., 0., 0., ..., 0., 0., 0.],\n",
       "       ...,\n",
       "       [0., 0., 0., ..., 0., 0., 0.],\n",
       "       [0., 0., 0., ..., 0., 0., 0.],\n",
       "       [0., 0., 0., ..., 0., 0., 0.]])"
      ]
     },
     "execution_count": 147,
     "metadata": {},
     "output_type": "execute_result"
    }
   ],
   "source": [
    "X"
   ]
  },
  {
   "cell_type": "code",
   "execution_count": 27,
   "id": "ea1a1e26",
   "metadata": {},
   "outputs": [
    {
     "data": {
      "text/plain": [
       "array(['5', '0', '4', ..., '4', '5', '6'], dtype=object)"
      ]
     },
     "execution_count": 27,
     "metadata": {},
     "output_type": "execute_result"
    }
   ],
   "source": [
    "y"
   ]
  },
  {
   "cell_type": "code",
   "execution_count": null,
   "id": "4682b2df",
   "metadata": {},
   "outputs": [],
   "source": [
    "#Choosing our digit"
   ]
  },
  {
   "cell_type": "code",
   "execution_count": 136,
   "id": "eb7112a6",
   "metadata": {},
   "outputs": [
    {
     "name": "stdout",
     "output_type": "stream",
     "text": [
      "5\n",
      "The first training set is the digit 5\n"
     ]
    }
   ],
   "source": [
    "print(y[0])\n",
    "print(\"The first training set is the digit %s\" % y[0])"
   ]
  },
  {
   "cell_type": "code",
   "execution_count": null,
   "id": "e754bcb9",
   "metadata": {},
   "outputs": [],
   "source": [
    "#Visualizing for Human confirmation"
   ]
  },
  {
   "cell_type": "code",
   "execution_count": 148,
   "id": "c7d315b5",
   "metadata": {},
   "outputs": [
    {
     "data": {
      "image/png": "[encoded data removed]",
      "text/plain": [
       "<Figure size 432x288 with 1 Axes>"
      ]
     },
     "metadata": {
      "needs_background": "light"
     },
     "output_type": "display_data"
    }
   ],
   "source": [
    "%matplotlib inline\n",
    "import matplotlib as mpl\n",
    "import matplotlib.pyplot as plt\n",
    "\n",
    "img = X[0]\n",
    "image_shape = img.reshape(28, 28)\n",
    "plt.imshow(image_shape, cmap=mpl.cm.binary)\n",
    "plt.axis(\"off\")\n",
    "\n",
    "plt.show()"
   ]
  },
  {
   "cell_type": "code",
   "execution_count": null,
   "id": "ae4fd4d5",
   "metadata": {},
   "outputs": [],
   "source": [
    "#Making a new data frame for our y variable"
   ]
  },
  {
   "cell_type": "code",
   "execution_count": 93,
   "id": "7704dced",
   "metadata": {},
   "outputs": [
    {
     "name": "stdout",
     "output_type": "stream",
     "text": [
      "(70000,)\n"
     ]
    }
   ],
   "source": [
    "y = y.astype(np.uint8)\n",
    "print(y.shape)"
   ]
  },
  {
   "cell_type": "markdown",
   "id": "5128b3b9",
   "metadata": {},
   "source": [
    "# Exercise. Try another binary classifier and compare its performance against the stochastic gradient descent classifier. See https://scikit-learn.org/stable/auto_examples/classification/plot_classifier_comparison.html for details."
   ]
  },
  {
   "cell_type": "code",
   "execution_count": null,
   "id": "0a20f06b",
   "metadata": {},
   "outputs": [],
   "source": [
    "#Defing the train and test data "
   ]
  },
  {
   "cell_type": "code",
   "execution_count": 149,
   "id": "a89ff0f2",
   "metadata": {},
   "outputs": [],
   "source": [
    "X_train, X_test, y_train, y_test = X[:10000], X[10000:], y[:10000], y[10000:]"
   ]
  },
  {
   "cell_type": "code",
   "execution_count": 95,
   "id": "c517a6c6",
   "metadata": {},
   "outputs": [],
   "source": [
    "#Fitting that into a model"
   ]
  },
  {
   "cell_type": "code",
   "execution_count": 71,
   "id": "21b07d46",
   "metadata": {},
   "outputs": [
    {
     "data": {
      "text/plain": [
       "array([5, 0, 4, ..., 6, 9, 7], dtype=uint8)"
      ]
     },
     "execution_count": 71,
     "metadata": {},
     "output_type": "execute_result"
    }
   ],
   "source": [
    "y_train_5=model.predict(X_train[:100000])\n",
    "y_train_5"
   ]
  },
  {
   "cell_type": "code",
   "execution_count": null,
   "id": "2c5258cd",
   "metadata": {},
   "outputs": [],
   "source": [
    "# Using KNN Classifier"
   ]
  },
  {
   "cell_type": "code",
   "execution_count": 74,
   "id": "15d23181",
   "metadata": {},
   "outputs": [
    {
     "data": {
      "text/html": [
       "<style>#sk-container-id-4 {color: black;background-color: white;}#sk-container-id-4 pre{padding: 0;}#sk-container-id-4 div.sk-toggleable {background-color: white;}#sk-container-id-4 label.sk-toggleable__label {cursor: pointer;display: block;width: 100%;margin-bottom: 0;padding: 0.3em;box-sizing: border-box;text-align: center;}#sk-container-id-4 label.sk-toggleable__label-arrow:before {content: \"▸\";float: left;margin-right: 0.25em;color: #696969;}#sk-container-id-4 label.sk-toggleable__label-arrow:hover:before {color: black;}#sk-container-id-4 div.sk-estimator:hover label.sk-toggleable__label-arrow:before {color: black;}#sk-container-id-4 div.sk-toggleable__content {max-height: 0;max-width: 0;overflow: hidden;text-align: left;background-color: #f0f8ff;}#sk-container-id-4 div.sk-toggleable__content pre {margin: 0.2em;color: black;border-radius: 0.25em;background-color: #f0f8ff;}#sk-container-id-4 input.sk-toggleable__control:checked~div.sk-toggleable__content {max-height: 200px;max-width: 100%;overflow: auto;}#sk-container-id-4 input.sk-toggleable__control:checked~label.sk-toggleable__label-arrow:before {content: \"▾\";}#sk-container-id-4 div.sk-estimator input.sk-toggleable__control:checked~label.sk-toggleable__label {background-color: #d4ebff;}#sk-container-id-4 div.sk-label input.sk-toggleable__control:checked~label.sk-toggleable__label {background-color: #d4ebff;}#sk-container-id-4 input.sk-hidden--visually {border: 0;clip: rect(1px 1px 1px 1px);clip: rect(1px, 1px, 1px, 1px);height: 1px;margin: -1px;overflow: hidden;padding: 0;position: absolute;width: 1px;}#sk-container-id-4 div.sk-estimator {font-family: monospace;background-color: #f0f8ff;border: 1px dotted black;border-radius: 0.25em;box-sizing: border-box;margin-bottom: 0.5em;}#sk-container-id-4 div.sk-estimator:hover {background-color: #d4ebff;}#sk-container-id-4 div.sk-parallel-item::after {content: \"\";width: 100%;border-bottom: 1px solid gray;flex-grow: 1;}#sk-container-id-4 div.sk-label:hover label.sk-toggleable__label {background-color: #d4ebff;}#sk-container-id-4 div.sk-serial::before {content: \"\";position: absolute;border-left: 1px solid gray;box-sizing: border-box;top: 0;bottom: 0;left: 50%;z-index: 0;}#sk-container-id-4 div.sk-serial {display: flex;flex-direction: column;align-items: center;background-color: white;padding-right: 0.2em;padding-left: 0.2em;position: relative;}#sk-container-id-4 div.sk-item {position: relative;z-index: 1;}#sk-container-id-4 div.sk-parallel {display: flex;align-items: stretch;justify-content: center;background-color: white;position: relative;}#sk-container-id-4 div.sk-item::before, #sk-container-id-4 div.sk-parallel-item::before {content: \"\";position: absolute;border-left: 1px solid gray;box-sizing: border-box;top: 0;bottom: 0;left: 50%;z-index: -1;}#sk-container-id-4 div.sk-parallel-item {display: flex;flex-direction: column;z-index: 1;position: relative;background-color: white;}#sk-container-id-4 div.sk-parallel-item:first-child::after {align-self: flex-end;width: 50%;}#sk-container-id-4 div.sk-parallel-item:last-child::after {align-self: flex-start;width: 50%;}#sk-container-id-4 div.sk-parallel-item:only-child::after {width: 0;}#sk-container-id-4 div.sk-dashed-wrapped {border: 1px dashed gray;margin: 0 0.4em 0.5em 0.4em;box-sizing: border-box;padding-bottom: 0.4em;background-color: white;}#sk-container-id-4 div.sk-label label {font-family: monospace;font-weight: bold;display: inline-block;line-height: 1.2em;}#sk-container-id-4 div.sk-label-container {text-align: center;}#sk-container-id-4 div.sk-container {/* jupyter's `normalize.less` sets `[hidden] { display: none; }` but bootstrap.min.css set `[hidden] { display: none !important; }` so we also need the `!important` here to be able to override the default hidden behavior on the sphinx rendered scikit-learn.org. See: https://github.com/scikit-learn/scikit-learn/issues/21755 */display: inline-block !important;position: relative;}#sk-container-id-4 div.sk-text-repr-fallback {display: none;}</style><div id=\"sk-container-id-4\" class=\"sk-top-container\"><div class=\"sk-text-repr-fallback\"><pre>KNeighborsClassifier(n_neighbors=3)</pre><b>In a Jupyter environment, please rerun this cell to show the HTML representation or trust the notebook. <br />On GitHub, the HTML representation is unable to render, please try loading this page with nbviewer.org.</b></div><div class=\"sk-container\" hidden><div class=\"sk-item\"><div class=\"sk-estimator sk-toggleable\"><input class=\"sk-toggleable__control sk-hidden--visually\" id=\"sk-estimator-id-4\" type=\"checkbox\" checked><label for=\"sk-estimator-id-4\" class=\"sk-toggleable__label sk-toggleable__label-arrow\">KNeighborsClassifier</label><div class=\"sk-toggleable__content\"><pre>KNeighborsClassifier(n_neighbors=3)</pre></div></div></div></div></div>"
      ],
      "text/plain": [
       "KNeighborsClassifier(n_neighbors=3)"
      ]
     },
     "execution_count": 74,
     "metadata": {},
     "output_type": "execute_result"
    }
   ],
   "source": [
    "from sklearn.neighbors import KNeighborsClassifier\n",
    "model = KNeighborsClassifier(n_neighbors=3, weights=\"uniform\", algorithm=\"auto\", leaf_size=30, p=2, metric=\"minkowski\", metric_params=None, n_jobs=None)\n",
    "model.fit(X_train, y_train_5)"
   ]
  },
  {
   "cell_type": "code",
   "execution_count": 145,
   "id": "9b60736b",
   "metadata": {},
   "outputs": [],
   "source": [
    "#Measurimng the accuracy of the model using cross_val_score\n",
    "#We are checking the accuracy here in 5 folds / 5 iterations"
   ]
  },
  {
   "cell_type": "code",
   "execution_count": 73,
   "id": "bca0f29c",
   "metadata": {},
   "outputs": [
    {
     "data": {
      "text/plain": [
       "array([0.954 , 0.9585, 0.961 , 0.956 , 0.9505])"
      ]
     },
     "execution_count": 73,
     "metadata": {},
     "output_type": "execute_result"
    }
   ],
   "source": [
    "from sklearn.model_selection import cross_val_score\n",
    "cross_val_score(model, X_train, y_train_5, cv=5, scoring=\"accuracy\")"
   ]
  },
  {
   "cell_type": "code",
   "execution_count": null,
   "id": "80aeb60b",
   "metadata": {},
   "outputs": [],
   "source": [
    "#Overall the model has an accuracy of 95%"
   ]
  },
  {
   "cell_type": "markdown",
   "id": "ba3c1a62",
   "metadata": {},
   "source": [
    "# Exercise. Try the random forest classifier on one set of parameters of your choice and compute the resulting confusion matrix, precision, recall, and the  F1score."
   ]
  },
  {
   "cell_type": "code",
   "execution_count": 77,
   "id": "a1bc0627",
   "metadata": {},
   "outputs": [],
   "source": [
    "from random import seed\n",
    "from random import randrange\n",
    "from csv import reader\n",
    "from math import sqrt"
   ]
  },
  {
   "cell_type": "code",
   "execution_count": 78,
   "id": "3486b719",
   "metadata": {},
   "outputs": [
    {
     "name": "stdout",
     "output_type": "stream",
     "text": [
      "Trees: 1\n",
      "Trees: 5\n",
      "Trees: 10\n"
     ]
    }
   ],
   "source": [
    "# Random Forest Algorithm\n",
    "def random_forest(x_train, y_test, max_depth, min_size, sample_size, n_trees, n_features):\n",
    "\ttrees = list()\n",
    "\tfor i in range(n_trees):\n",
    "\t\tsample = subsample(train, sample_size)\n",
    "\t\ttree = build_tree(sample, max_depth, min_size, n_features)\n",
    "\t\ttrees.append(tree)\n",
    "\tpredictions = [bagging_predict(trees, row) for row in test]\n",
    "\treturn(predictions)\n",
    " \n",
    "# Test the random forest algorithm\n",
    "seed(2)\n",
    "# load and prepare data\n",
    "dataset = mnist\n",
    "\n",
    "# evaluate algorithm\n",
    "n_folds = 5\n",
    "max_depth = 10\n",
    "min_size = 1\n",
    "sample_size = 1.0\n",
    "n_features = int(sqrt(len(mnist)-1))\n",
    "for n_trees in [1, 5, 10]:\n",
    "\tscores =(dataset, random_forest, n_folds, max_depth, min_size, sample_size, n_trees, n_features)\n",
    "\tprint('Trees: %d' % n_trees)\n",
    "         \n",
    "\t#These last two lines are giving an error for me, converting them as a comment to rum for now\n",
    "\n",
    "\t#print('Scores: %s' % scores)\n",
    "\t#print('Mean Accuracy: %.3f%%' % (sum(scores)/float(len(scores))))"
   ]
  },
  {
   "cell_type": "markdown",
   "id": "1d71d617",
   "metadata": {},
   "source": [
    "# Exercise. Try another classifier and see how it compares to both SGD and random forest classifiers."
   ]
  },
  {
   "cell_type": "code",
   "execution_count": null,
   "id": "dca279b9",
   "metadata": {},
   "outputs": [],
   "source": [
    "#Using SVC as another classifier "
   ]
  },
  {
   "cell_type": "code",
   "execution_count": 93,
   "id": "03c05d4b",
   "metadata": {},
   "outputs": [],
   "source": [
    "from sklearn.svm import SVC"
   ]
  },
  {
   "cell_type": "code",
   "execution_count": 94,
   "id": "da318771",
   "metadata": {},
   "outputs": [],
   "source": [
    "model2 = SVC(kernel='rbf', random_state=0, gamma=.01, C=1)"
   ]
  },
  {
   "cell_type": "code",
   "execution_count": 95,
   "id": "f329a879",
   "metadata": {},
   "outputs": [
    {
     "data": {
      "text/html": [
       "<style>#sk-container-id-8 {color: black;background-color: white;}#sk-container-id-8 pre{padding: 0;}#sk-container-id-8 div.sk-toggleable {background-color: white;}#sk-container-id-8 label.sk-toggleable__label {cursor: pointer;display: block;width: 100%;margin-bottom: 0;padding: 0.3em;box-sizing: border-box;text-align: center;}#sk-container-id-8 label.sk-toggleable__label-arrow:before {content: \"▸\";float: left;margin-right: 0.25em;color: #696969;}#sk-container-id-8 label.sk-toggleable__label-arrow:hover:before {color: black;}#sk-container-id-8 div.sk-estimator:hover label.sk-toggleable__label-arrow:before {color: black;}#sk-container-id-8 div.sk-toggleable__content {max-height: 0;max-width: 0;overflow: hidden;text-align: left;background-color: #f0f8ff;}#sk-container-id-8 div.sk-toggleable__content pre {margin: 0.2em;color: black;border-radius: 0.25em;background-color: #f0f8ff;}#sk-container-id-8 input.sk-toggleable__control:checked~div.sk-toggleable__content {max-height: 200px;max-width: 100%;overflow: auto;}#sk-container-id-8 input.sk-toggleable__control:checked~label.sk-toggleable__label-arrow:before {content: \"▾\";}#sk-container-id-8 div.sk-estimator input.sk-toggleable__control:checked~label.sk-toggleable__label {background-color: #d4ebff;}#sk-container-id-8 div.sk-label input.sk-toggleable__control:checked~label.sk-toggleable__label {background-color: #d4ebff;}#sk-container-id-8 input.sk-hidden--visually {border: 0;clip: rect(1px 1px 1px 1px);clip: rect(1px, 1px, 1px, 1px);height: 1px;margin: -1px;overflow: hidden;padding: 0;position: absolute;width: 1px;}#sk-container-id-8 div.sk-estimator {font-family: monospace;background-color: #f0f8ff;border: 1px dotted black;border-radius: 0.25em;box-sizing: border-box;margin-bottom: 0.5em;}#sk-container-id-8 div.sk-estimator:hover {background-color: #d4ebff;}#sk-container-id-8 div.sk-parallel-item::after {content: \"\";width: 100%;border-bottom: 1px solid gray;flex-grow: 1;}#sk-container-id-8 div.sk-label:hover label.sk-toggleable__label {background-color: #d4ebff;}#sk-container-id-8 div.sk-serial::before {content: \"\";position: absolute;border-left: 1px solid gray;box-sizing: border-box;top: 0;bottom: 0;left: 50%;z-index: 0;}#sk-container-id-8 div.sk-serial {display: flex;flex-direction: column;align-items: center;background-color: white;padding-right: 0.2em;padding-left: 0.2em;position: relative;}#sk-container-id-8 div.sk-item {position: relative;z-index: 1;}#sk-container-id-8 div.sk-parallel {display: flex;align-items: stretch;justify-content: center;background-color: white;position: relative;}#sk-container-id-8 div.sk-item::before, #sk-container-id-8 div.sk-parallel-item::before {content: \"\";position: absolute;border-left: 1px solid gray;box-sizing: border-box;top: 0;bottom: 0;left: 50%;z-index: -1;}#sk-container-id-8 div.sk-parallel-item {display: flex;flex-direction: column;z-index: 1;position: relative;background-color: white;}#sk-container-id-8 div.sk-parallel-item:first-child::after {align-self: flex-end;width: 50%;}#sk-container-id-8 div.sk-parallel-item:last-child::after {align-self: flex-start;width: 50%;}#sk-container-id-8 div.sk-parallel-item:only-child::after {width: 0;}#sk-container-id-8 div.sk-dashed-wrapped {border: 1px dashed gray;margin: 0 0.4em 0.5em 0.4em;box-sizing: border-box;padding-bottom: 0.4em;background-color: white;}#sk-container-id-8 div.sk-label label {font-family: monospace;font-weight: bold;display: inline-block;line-height: 1.2em;}#sk-container-id-8 div.sk-label-container {text-align: center;}#sk-container-id-8 div.sk-container {/* jupyter's `normalize.less` sets `[hidden] { display: none; }` but bootstrap.min.css set `[hidden] { display: none !important; }` so we also need the `!important` here to be able to override the default hidden behavior on the sphinx rendered scikit-learn.org. See: https://github.com/scikit-learn/scikit-learn/issues/21755 */display: inline-block !important;position: relative;}#sk-container-id-8 div.sk-text-repr-fallback {display: none;}</style><div id=\"sk-container-id-8\" class=\"sk-top-container\"><div class=\"sk-text-repr-fallback\"><pre>SVC(C=1, gamma=0.01, random_state=0)</pre><b>In a Jupyter environment, please rerun this cell to show the HTML representation or trust the notebook. <br />On GitHub, the HTML representation is unable to render, please try loading this page with nbviewer.org.</b></div><div class=\"sk-container\" hidden><div class=\"sk-item\"><div class=\"sk-estimator sk-toggleable\"><input class=\"sk-toggleable__control sk-hidden--visually\" id=\"sk-estimator-id-8\" type=\"checkbox\" checked><label for=\"sk-estimator-id-8\" class=\"sk-toggleable__label sk-toggleable__label-arrow\">SVC</label><div class=\"sk-toggleable__content\"><pre>SVC(C=1, gamma=0.01, random_state=0)</pre></div></div></div></div></div>"
      ],
      "text/plain": [
       "SVC(C=1, gamma=0.01, random_state=0)"
      ]
     },
     "execution_count": 95,
     "metadata": {},
     "output_type": "execute_result"
    }
   ],
   "source": [
    "model2.fit(X_train,y_train)"
   ]
  },
  {
   "cell_type": "code",
   "execution_count": 100,
   "id": "9be48e16",
   "metadata": {},
   "outputs": [
    {
     "data": {
      "text/plain": [
       "array([1, 1, 1, 1, 1, 1, 1, 1, 1, 1, 1, 1, 1, 1, 1, 1, 1, 1, 1, 1, 1, 1,\n",
       "       1, 1, 1, 1, 1, 1, 1, 1, 1, 1, 1, 1, 1, 1, 1, 1, 1, 1, 1, 1, 1, 1,\n",
       "       1, 1, 1, 1, 1, 1, 1, 1, 1, 1, 1, 1, 1, 1, 1, 1, 1, 1, 1, 1, 1, 1,\n",
       "       1, 1, 1, 1, 1, 1, 1, 1, 1, 1, 1, 1, 1, 1, 1, 1, 1, 1, 1, 1, 1, 1,\n",
       "       1, 1, 1, 1, 1, 1, 1, 1, 1, 1, 1, 1], dtype=uint8)"
      ]
     },
     "execution_count": 100,
     "metadata": {},
     "output_type": "execute_result"
    }
   ],
   "source": [
    "y_pred2=model2.predict(X_test[:100])\n",
    "y_pred2"
   ]
  },
  {
   "cell_type": "code",
   "execution_count": 110,
   "id": "5bbb54fb",
   "metadata": {},
   "outputs": [
    {
     "data": {
      "text/plain": [
       "array([3, 8, 7, 9, 9, 0, 1, 1, 5, 2, 0, 3, 8, 4, 7, 5, 2, 6, 4, 7, 1, 8,\n",
       "       0, 9, 2, 0, 0, 1, 9, 2, 5, 3, 6, 4, 3, 5, 6, 6, 9, 7, 1, 8, 3, 9,\n",
       "       6, 0, 7, 9, 1, 5, 7, 5, 3, 6, 8, 9, 5, 8, 1, 9, 4, 8, 5, 7, 8, 5,\n",
       "       8, 1, 1, 0, 9, 0, 2, 2, 3, 2, 6, 7, 2, 8, 0, 2, 2, 0, 2, 1, 7, 2,\n",
       "       9, 6, 2, 3, 5, 3, 9, 7, 7, 3, 1, 3], dtype=uint8)"
      ]
     },
     "execution_count": 110,
     "metadata": {},
     "output_type": "execute_result"
    }
   ],
   "source": [
    "y_test[:100]"
   ]
  },
  {
   "cell_type": "code",
   "execution_count": 126,
   "id": "e74b5164",
   "metadata": {},
   "outputs": [],
   "source": [
    "from sklearn.metrics import confusion_matrix\n",
    "from sklearn.model_selection import cross_val_predict\n",
    "\n",
    "y_train_pred = cross_val_predict(sgd_clf, X_train, y_train, cv=3)\n"
   ]
  },
  {
   "cell_type": "code",
   "execution_count": 118,
   "id": "319fde63",
   "metadata": {},
   "outputs": [
    {
     "data": {
      "text/plain": [
       "array([[ 957,    0,    9,    9,    0,   13,    5,    3,   15,    5],\n",
       "       [   0, 1058,   33,   13,    9,   12,    5,    7,   31,   13],\n",
       "       [   9,    9,  836,   32,    6,    7,   15,    8,   48,   12],\n",
       "       [   5,    3,   45,  861,    1,   58,    6,    9,   18,   24],\n",
       "       [   0,    2,   17,    3,  833,    9,    9,   12,   13,   68],\n",
       "       [  10,    6,   11,   46,   14,  691,   18,    4,   40,   19],\n",
       "       [   6,    3,   16,    4,   12,   15,  946,    3,   13,    5],\n",
       "       [   5,    3,   18,   15,   12,    2,    0,  932,    7,   81],\n",
       "       [  10,    7,   36,   37,    9,   40,   14,    7,  704,   23],\n",
       "       [   4,    2,    8,   18,   32,   11,    0,   59,   10,  837]],\n",
       "      dtype=int64)"
      ]
     },
     "execution_count": 118,
     "metadata": {},
     "output_type": "execute_result"
    }
   ],
   "source": [
    "confusion_matrix(y_train_5, y_train_pred)"
   ]
  },
  {
   "cell_type": "code",
   "execution_count": 119,
   "id": "6146935c",
   "metadata": {},
   "outputs": [
    {
     "data": {
      "text/plain": [
       "array([[1016,    0,    0,    0,    0,    0,    0,    0,    0,    0],\n",
       "       [   0, 1181,    0,    0,    0,    0,    0,    0,    0,    0],\n",
       "       [   0,    0,  982,    0,    0,    0,    0,    0,    0,    0],\n",
       "       [   0,    0,    0, 1030,    0,    0,    0,    0,    0,    0],\n",
       "       [   0,    0,    0,    0,  966,    0,    0,    0,    0,    0],\n",
       "       [   0,    0,    0,    0,    0,  859,    0,    0,    0,    0],\n",
       "       [   0,    0,    0,    0,    0,    0, 1023,    0,    0,    0],\n",
       "       [   0,    0,    0,    0,    0,    0,    0, 1075,    0,    0],\n",
       "       [   0,    0,    0,    0,    0,    0,    0,    0,  887,    0],\n",
       "       [   0,    0,    0,    0,    0,    0,    0,    0,    0,  981]],\n",
       "      dtype=int64)"
      ]
     },
     "execution_count": 119,
     "metadata": {},
     "output_type": "execute_result"
    }
   ],
   "source": [
    "y_train_perfect_predictions = y_train_5  # pretend we reached perfection\n",
    "confusion_matrix(y_train_5, y_train_perfect_predictions)"
   ]
  },
  {
   "cell_type": "code",
   "execution_count": 105,
   "id": "c6ceb1db",
   "metadata": {},
   "outputs": [
    {
     "data": {
      "text/plain": [
       "array([0.11817636, 0.11821182, 0.11791179])"
      ]
     },
     "execution_count": 105,
     "metadata": {},
     "output_type": "execute_result"
    }
   ],
   "source": [
    "from sklearn.model_selection import cross_val_score\n",
    "cross_val_score(model2, X_train, y_train_5, cv=3, scoring=\"accuracy\")"
   ]
  },
  {
   "cell_type": "code",
   "execution_count": null,
   "id": "9b38c69f",
   "metadata": {},
   "outputs": [],
   "source": [
    "#Extra Questions asked"
   ]
  },
  {
   "cell_type": "markdown",
   "id": "c529e83b",
   "metadata": {},
   "source": [
    "Can you think of an example for each of multiclass, multilabel, and multioutput classification problems?\n",
    "\n",
    "Multi class - classifying a set of images of numbers to which number they belong (week 2 assignment)\n",
    "Multi label - Movie (Action/Adventure/Horror/Sci-Fi)\n",
    "Multi output - Predicting both wind speed and wind direction\n",
    "\n",
    "\n",
    "What is the significance of the 45 degree line in a ROC curve? What does this line represent?\n",
    "\n",
    "The 45 degree line in ROC curve is the Random Classifier. Our ROC curve should be above this diagonal line.\n",
    "Suppose we need to identify a skin disease, this can be diagnostically useful for assessing and the predictive capability of two or more biomarkers for the same disease. It\n",
    "also shows the tradeoff between these two across different settings of the classifier process, and that is useful in understanding the performance of the model.\n",
    "\n",
    "\n"
   ]
  }
 ],
 "metadata": {
  "kernelspec": {
   "display_name": "Python 3 (ipykernel)",
   "language": "python",
   "name": "python3"
  },
  "language_info": {
   "codemirror_mode": {
    "name": "ipython",
    "version": 3
   },
   "file_extension": ".py",
   "mimetype": "text/x-python",
   "name": "python",
   "nbconvert_exporter": "python",
   "pygments_lexer": "ipython3",
   "version": "3.9.12"
  }
 },
 "nbformat": 4,
 "nbformat_minor": 5
}
